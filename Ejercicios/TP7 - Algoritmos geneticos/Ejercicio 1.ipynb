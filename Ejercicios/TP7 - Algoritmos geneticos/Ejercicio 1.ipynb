{
 "cells": [
  {
   "cell_type": "markdown",
   "metadata": {},
   "source": [
    "## Diseño aerodinámico\n",
    "\n",
    "Existen cuatro variables que representan valores de parámetros para el diseño de el ala de una aeronave. Cada uno de estos parámetros puede tomar un valor entre 0 y 63.\n",
    "\n",
    "El modelo aerodinámico dice que la elevación del ala está dada por la formula:\n",
    "\n",
    "Elevación = (A - B)2 + (C - D)2 - (A-30)3 - (C-40)3\n",
    "\n",
    "Encontrar los valores de parámetros que maximicen la elevación del ala."
   ]
  },
  {
   "cell_type": "markdown",
   "metadata": {},
   "source": [
    "## Codificación\n",
    "\n",
    "- Definir como se codificará el problema"
   ]
  },
  {
   "cell_type": "markdown",
   "metadata": {},
   "source": [
    "Para este problema el cromosoma estará compuesto por 4 genes cada uno de ellos representará el valor de A,B,C y D."
   ]
  },
  {
   "cell_type": "markdown",
   "metadata": {},
   "source": [
    "## Adaptación\n",
    "\n",
    "- Definir como se calculará la adaptación de un individuo\n",
    "- ¿Existen estados que deben ser penalizados?\n"
   ]
  },
  {
   "cell_type": "markdown",
   "metadata": {},
   "source": []
  },
  {
   "cell_type": "code",
   "execution_count": 1,
   "metadata": {},
   "outputs": [],
   "source": [
    "import numpy\n",
    "import matplotlib\n",
    "import matplotlib.pyplot as plt\n",
    "#equation_inputs : valores de entrada\n",
    "#pop : población\n",
    "def cal_pop_fitness(population):\n",
    "    fitness = []\n",
    "    for pop in population:\n",
    "        fitness.append( (( pop[0] - pop[1])**2 + ( pop[2] - pop[3])**2 - (pop[0] - 30))**3 - (pop[2] - 40)**3 )\n",
    "    return fitness"
   ]
  },
  {
   "cell_type": "markdown",
   "metadata": {},
   "source": [
    "## Selección"
   ]
  },
  {
   "cell_type": "code",
   "execution_count": 2,
   "metadata": {},
   "outputs": [],
   "source": [
    "#pop: población\n",
    "#fitness: arreglo con los valores de adaptación\n",
    "#num_parent: cantidad de padres que se quieren obtener\n",
    "def select_mating_pool(pop, fitness, num_parents):\n",
    "    #Crear arreglo vacío que contendrá los padres seleccionados\n",
    "    parents = numpy.empty((num_parents, pop.shape[1]))\n",
    "    for parent_num in range(num_parents):\n",
    "        #Obtener individuo con mayor adaptación\n",
    "        max_fitness_idx = numpy.where(fitness == numpy.max(fitness))\n",
    "        #Obtener índice del individuo\n",
    "        max_fitness_idx = max_fitness_idx[0][0]\n",
    "        #Cargar individuo a la lista de padres\n",
    "        parents[parent_num, :] = pop[max_fitness_idx, :]\n",
    "        #Setear valor de adaptación a un valor muy malo para que no vuelva a ser elegido\n",
    "        fitness[max_fitness_idx] = -99999999999\n",
    "    #Devolver lista de padres\n",
    "    return parents"
   ]
  },
  {
   "cell_type": "markdown",
   "metadata": {},
   "source": [
    "## Cruza"
   ]
  },
  {
   "cell_type": "code",
   "execution_count": 3,
   "metadata": {},
   "outputs": [],
   "source": [
    "#parents: lista de padres\n",
    "#offspring_size: cantidad de hijos que se quieren obtener\n",
    "def crossover(parents, offspring_size):\n",
    "    #Generar arreglo vacío donde se guardarán los hijos\n",
    "    offspring = numpy.empty((offspring_size,parents.shape[1]))\n",
    "    #Definir punto de cruce en la mitad de los padre\n",
    "    crossover_point = numpy.uint8(parents.shape[0]/2)\n",
    "    for k in range(offspring_size):\n",
    "        # Índice del primer padre para realizar la cruza\n",
    "        parent1_idx = k%parents.shape[0]\n",
    "        # Índice del segundo padre para realizar la cruza\n",
    "        parent2_idx = (k+1)%parents.shape[0]\n",
    "        # Generar el primer hijo con la primer mitad de un padre y la segunda de otro\n",
    "        offspring[k, 0:crossover_point] = parents[parent1_idx, 0:crossover_point]\n",
    "        # Generar el segundo hijo con las partes opuestas\n",
    "        offspring[k, crossover_point:] = parents[parent2_idx, crossover_point:]\n",
    "    #Devolver lista de hijos\n",
    "    return offspring"
   ]
  },
  {
   "cell_type": "markdown",
   "metadata": {},
   "source": [
    "## Mutación"
   ]
  },
  {
   "cell_type": "code",
   "execution_count": 4,
   "metadata": {},
   "outputs": [],
   "source": [
    "#offspring_crossover: lista de hijos a mutar\n",
    "def mutation(offspring_crossover):\n",
    "    \n",
    "    for idx in range(offspring_crossover.shape[0]):\n",
    "        #Generar un valor aleatorio\n",
    "        random_value = numpy.random.uniform(0, 63)\n",
    "        # Sumar el valor aleatorio a uno de los genes\n",
    "        offspring_crossover[idx, numpy.random.randint(low=0, high=(offspring_crossover.shape[1]-1) )] = random_value\n",
    "        #offspring_crossover[idx, numpy.random.randint(low=0, high=(offspring_crossover.shape[1]-1) )] = offspring_crossover.shape[idx,offspring_crossover.shape[1] ] + random_value\n",
    "    #Devolver lista de hijos mutados\n",
    "    return offspring_crossover"
   ]
  },
  {
   "cell_type": "markdown",
   "metadata": {},
   "source": [
    "# Algoritmo"
   ]
  },
  {
   "cell_type": "code",
   "execution_count": 5,
   "metadata": {},
   "outputs": [
    {
     "name": "stdout",
     "output_type": "stream",
     "text": [
      "Población inicial: \n",
      "[[34.74830433 59.47416419 53.35464003 17.56024779]\n",
      " [ 0.63346659 14.01652098 45.32164716 45.17987817]\n",
      " [12.44655726 41.02647747 46.33556136  6.7442723 ]\n",
      " [20.34663437 58.94218756 55.82503314 15.88484574]\n",
      " [36.62427391 37.5000066  13.47727907  5.5602026 ]\n",
      " [17.1425191  61.43633809  5.30708329 45.82254936]\n",
      " [10.76238105 28.71912742 12.92661537 26.72332432]\n",
      " [56.33331445 19.33743998 15.62458854 17.46500498]\n",
      " [55.85025955 39.54344499 12.91005084 30.28336513]\n",
      " [ 2.60714593 56.08966108 14.92673752 28.58279342]\n",
      " [36.35193854 61.17372415 52.91793108 49.38101049]\n",
      " [42.29829378 46.17039968  1.80812138 12.34839349]\n",
      " [46.64233686  6.40469298 61.16956143 17.4506114 ]\n",
      " [53.42956133 43.33544185 48.47557232 59.36359036]\n",
      " [37.82029309 38.22173476 41.98471833 10.13308454]\n",
      " [ 2.11733801  5.90296671 13.8800282   7.2870108 ]\n",
      " [53.62805881 11.05293219  0.72169916 28.77538627]\n",
      " [60.75819399 42.71996796 47.82688299 59.43430106]\n",
      " [38.12175854 19.32002295 56.41356061 33.9913878 ]\n",
      " [46.6537344  31.70994827  5.15099664 34.36650523]\n",
      " [59.45929112 24.46192823 34.02220521  2.40788273]\n",
      " [11.52431318 54.68375559 42.9168169  50.74272827]\n",
      " [29.17300526 12.07081514 48.25597051 35.08431192]\n",
      " [40.05122705 25.41221991 35.93737417 53.17351333]\n",
      " [ 2.14410537 36.02619642  2.48000786 60.91573246]\n",
      " [24.08664787 53.56957575 28.54623999 61.96341994]\n",
      " [54.64518624 40.73868207 39.26118183 55.35227977]\n",
      " [29.12165362 60.00611341 25.1859798  53.90023294]\n",
      " [33.34908568 41.47343872 14.48654944 24.32216623]\n",
      " [31.18374456 12.17644851 52.22233426 23.88387968]\n",
      " [42.46003706 40.73896664 36.38931127 49.50365094]\n",
      " [39.52912891  3.76447425 58.78351087 54.41853958]\n",
      " [22.04077489 39.73332355 19.94662159 12.9009237 ]\n",
      " [20.8038331  60.6372362  50.22598821 29.21964226]\n",
      " [27.89642271 19.90711543  8.95677415  1.13697193]\n",
      " [ 5.65710681 60.18551286 39.47863344  1.63533433]\n",
      " [24.96553582  3.67900634 46.15700744 36.37660611]\n",
      " [ 1.40245205  1.49480882  9.65590094 25.61465419]\n",
      " [10.7433713  55.16021258 44.64082404 41.92832111]\n",
      " [62.68200839 47.81821985 44.66482143 25.44285025]\n",
      " [12.83185618 30.13296792 14.41606199 39.66720611]\n",
      " [19.44900011 40.21827455 35.42698196 44.80130399]\n",
      " [ 2.0669175   4.14341343 46.48963906 18.60359301]\n",
      " [18.90608396  9.93279957 16.2482099  42.67905099]\n",
      " [32.60953372 43.96146615 40.42030388 34.1641724 ]\n",
      " [ 7.55112865 39.63653479 36.64148243 57.10058008]\n",
      " [39.01176931 52.13134502 16.60524348 35.84517302]\n",
      " [10.00026138 54.26278109 56.85177256 41.60219283]\n",
      " [ 3.32550948  6.72164225 50.4804983   4.22396116]\n",
      " [38.85914293 40.90635102  0.24769298 58.75446398]\n",
      " [55.35577218 38.322185   52.76006278 32.93385838]\n",
      " [36.92828892 35.53844334 53.29849427 60.5811396 ]\n",
      " [16.78990856 13.72933238 55.15398365 12.87927022]\n",
      " [35.14778935  5.30097833 47.89720978 31.72604193]\n",
      " [47.89176645  7.17584322  3.29066808 47.77908448]\n",
      " [12.68924125 31.94105514 33.68774883 33.72107955]\n",
      " [54.04104745 61.48732642 49.08433683 43.86615238]\n",
      " [ 0.92489681 50.6026122  57.0628861  50.08115068]\n",
      " [ 0.2453609  17.14353567 53.7518187  52.12933302]\n",
      " [ 3.68791163 35.26937539 38.06009307 17.9074214 ]\n",
      " [26.93485889 51.55381796 27.08108013 45.43158868]\n",
      " [ 8.84122626 29.18624464  9.31917458 33.57902251]\n",
      " [34.25209604 13.37298164 50.18862197 40.98704281]\n",
      " [29.00422612 16.95618418 38.49072676 22.90314872]\n",
      " [33.4666307  24.26574452 19.82760913 49.62962286]\n",
      " [30.39161021 13.9915825   1.79695032 22.40278529]\n",
      " [19.23835232 28.24211657 33.95449278 13.14264735]\n",
      " [57.14697363 37.76625635 48.43026784 17.15342996]\n",
      " [42.17509982 28.50146445 15.14008311 54.57738202]\n",
      " [18.50276473 14.55302918  5.53362661 44.2581795 ]\n",
      " [ 4.49990091 30.62962261 33.80113537 36.30586332]\n",
      " [40.73297943 20.35142921 16.52779381 31.0259655 ]\n",
      " [28.73608345  3.11057094 21.98325844 47.16935729]\n",
      " [34.99765866 49.57014026 33.86488817 32.58774749]\n",
      " [33.54097256 21.26947475  3.5018214  20.69584607]\n",
      " [12.62487114 19.72943397 25.45782813 62.7052601 ]\n",
      " [25.84546126 53.11123126 49.06764362  5.16371699]\n",
      " [ 7.6498077  60.05133859 48.31138287 34.19369254]\n",
      " [35.70347033 51.26841615 24.26300505 17.12841684]\n",
      " [ 8.93992842 55.15043748 13.70151285  8.11411913]\n",
      " [60.74073648 48.35274175 57.0832298   6.19366853]\n",
      " [41.07690425 57.85176353 55.26048275  9.57452502]\n",
      " [33.42487988 46.3239783  11.30268944 55.10949024]\n",
      " [27.92588055 28.29345471 13.24930683 56.23678517]\n",
      " [53.66636709 28.24857393 55.14127633 37.9342596 ]\n",
      " [38.73986816 19.01320824 58.74888289 31.50623477]\n",
      " [43.90516271 19.38847073 10.95653601 17.88427814]\n",
      " [14.23073589 59.664455   32.98876447 32.02383096]\n",
      " [15.41999214 20.0848909  23.9172624  21.44122947]\n",
      " [45.03481099  1.37325113 19.86356314  2.61427961]\n",
      " [16.64894297 17.43200677 42.61738582 50.82923215]\n",
      " [28.3249899  18.28274823 41.64775787 11.04195587]\n",
      " [11.38941229 30.49149467 47.41297619 20.81850227]\n",
      " [29.94082998 49.6366998  31.05972688 33.41746597]\n",
      " [49.79556626 39.20363747 10.75990625 50.47816771]\n",
      " [36.71574607 60.79568171  7.17717953 17.85874448]\n",
      " [34.41280069 20.74566486 19.58007114 39.36698599]\n",
      " [35.32498495 26.82273366  8.91358451  5.1308294 ]\n",
      " [ 8.49372147 40.54637168 47.84877091 57.32019956]\n",
      " [12.01180992 46.51906216 40.82338794 48.55603186]]\n"
     ]
    }
   ],
   "source": [
    "#Cantidad de genes\n",
    "num_genes = 4\n",
    "#Soluciones por población\n",
    "sol_per_pop = 100\n",
    "#Número de padres para cruza\n",
    "num_parents_mating = 10\n",
    "#Tamaño de la población\n",
    "pop_size = (sol_per_pop,num_genes) \n",
    "#Crear pobliación inicial con valores aleatorios\n",
    "new_population = numpy.random.uniform(low=0.0, high=63.0, size=pop_size)\n",
    "print(\"Población inicial: \")\n",
    "print(new_population)\n",
    "#Cantidad de generaciones a realizar\n",
    "num_generations = 30"
   ]
  },
  {
   "cell_type": "code",
   "execution_count": 6,
   "metadata": {},
   "outputs": [
    {
     "name": "stdout",
     "output_type": "stream",
     "text": [
      "Mejor resultado :  [[[ 0.17564181 62.7842771   0.29251991 60.91573246]]]\n",
      "Adaptación del mejor resultado :  443294328831.5053\n"
     ]
    },
    {
     "data": {
      "image/png": "[encoded data removed]",
      "text/plain": [
       "<Figure size 432x288 with 1 Axes>"
      ]
     },
     "metadata": {
      "needs_background": "light"
     },
     "output_type": "display_data"
    }
   ],
   "source": [
    "gen = []\n",
    "fit = []\n",
    "for generation in range(num_generations):\n",
    "    # Obtener valores de adaptación de la población\n",
    "    fitness = cal_pop_fitness(new_population)\n",
    "    # Selección\n",
    "    parents = select_mating_pool(new_population, fitness, \n",
    "                                      num_parents_mating)\n",
    "    # Cruza\n",
    "    offspring_crossover = crossover(parents,\n",
    "                                       offspring_size=(pop_size[0]-parents.shape[0]))\n",
    "\n",
    "    # Mutación\n",
    "    offspring_mutation = mutation(offspring_crossover)\n",
    "\n",
    "    # Crear nueva población basada en los padres y los hijos\n",
    "    new_population[0:parents.shape[0], :] = parents\n",
    "    new_population[parents.shape[0]:, :] = offspring_mutation\n",
    "       \n",
    "\n",
    "    # Obtener mejor resultado para la generación\n",
    "    fit.append(numpy.max(cal_pop_fitness(new_population)))\n",
    "    gen.append(generation)\n",
    "    \n",
    "\n",
    "#Obtener la mejor solución\n",
    "fitness = cal_pop_fitness(new_population)\n",
    "best_match_idx = numpy.where(fitness == numpy.max(fitness))\n",
    "print(\"Mejor resultado : \", new_population[best_match_idx, :])\n",
    "print(\"Adaptación del mejor resultado : \", fitness[best_match_idx[0][0]])\n",
    "\n",
    "#Gráfico\n",
    "fig, ax = plt.subplots()\n",
    "ax.plot(gen, fit, 'b')\n",
    "ax.set_ylabel('Fitness')\n",
    "ax.set_xlabel('Generation')\n",
    "plt.show()"
   ]
  }
 ],
 "metadata": {
  "kernelspec": {
   "display_name": "Python 3",
   "language": "python",
   "name": "python3"
  },
  "language_info": {
   "codemirror_mode": {
    "name": "ipython",
    "version": 3
   },
   "file_extension": ".py",
   "mimetype": "text/x-python",
   "name": "python",
   "nbconvert_exporter": "python",
   "pygments_lexer": "ipython3",
   "version": "3.8.3"
  }
 },
 "nbformat": 4,
 "nbformat_minor": 4
}
