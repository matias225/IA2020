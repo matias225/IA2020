{
 "cells": [
  {
   "cell_type": "markdown",
   "metadata": {},
   "source": [
    "# El problema de la mochila\n",
    "\n",
    "Se tiene una mochila y un conjunto de artículos con diferente peso y valor. Se intenta determinar que artículos se pueden colocar adentro de la mochila de manera que no se sobrepase el límite de peso de la mochila maximizando el valor total. \n",
    "\n",
    "## Primera parte\n",
    "\n",
    "Resolver el problema utilizando un método de fuerza bruta para los siguientes artículos y un límite de 15kg:\n",
    "\n",
    "<table style=\"font-size:16px\">\n",
    "    <tr>\n",
    "        <th>Item</th><td>Valor</td><td>Peso</td>\n",
    "    </tr>\n",
    "    <tr>\n",
    "        <th>A</th><td>4</td><td>12</td>\n",
    "    </tr>\n",
    "    <tr>\n",
    "        <th>B</th><td>2</td><td>2</td>\n",
    "    </tr>\n",
    "    <tr>\n",
    "        <th>C</th><td>10</td><td>4</td>\n",
    "    </tr>\n",
    "    <tr>\n",
    "        <th>D</th><td>1</td><td>1</td>\n",
    "    </tr>\n",
    "</table>\n",
    "\n",
    "Mostrar el resultado para todos los casos"
   ]
  },
  {
   "cell_type": "code",
   "execution_count": 25,
   "metadata": {},
   "outputs": [
    {
     "name": "stdout",
     "output_type": "stream",
     "text": [
      "El mejor resultado que se puede conseguir es:\n",
      "Peso total: 7\n",
      "Valor total: 13\n",
      "Articulos: ['B', 'C', 'D']\n"
     ]
    }
   ],
   "source": [
    "from itertools import permutations\n",
    "import itertools\n",
    "\n",
    "articulos = [\"A\",\"B\",\"C\",\"D\"]\n",
    "pesos = [12, 2, 4, 1]\n",
    "valores = [4, 2, 10, 1]\n",
    "valormax = 0\n",
    "pesototal = 0\n",
    "articulosenmochila = []\n",
    "combinaciones = []\n",
    "\n",
    "for i in range(1,len(articulos)+1):\n",
    "    for item in list(itertools.combinations(articulos,i)):\n",
    "        combinaciones.append(list(item))\n",
    "\n",
    "for combinacion in combinaciones:\n",
    "    lista = [articulos.index(i) for i in combinacion]\n",
    "    peso = [pesos[j] for j in lista]\n",
    "    valor = [valores[k] for k in lista]\n",
    "    \n",
    "    if sum(peso) < 15 and sum(valor) > valormax:\n",
    "        valormax = sum(valor)\n",
    "        pesototal = sum(peso)\n",
    "        articulosenmochila = combinacion\n",
    "    \n",
    "print(\"El mejor resultado que se puede conseguir es:\")\n",
    "print(\"Peso total:\", pesototal)\n",
    "print(\"Valor total:\", valormax)\n",
    "print(\"Articulos:\", articulosenmochila)\n"
   ]
  },
  {
   "cell_type": "markdown",
   "metadata": {},
   "source": [
    "# Segunda parte\n",
    "\n",
    "Resolver el problema agregando heurística para los siguientes artículos y un límite de 30kg:\n",
    "\n",
    "<table style=\"font-size:16px\">\n",
    "    <tr>\n",
    "        <th>Item</th><td>Valor</td><td>Peso</td>\n",
    "    </tr>\n",
    "    <tr>\n",
    "        <th>A</th><td>4</td><td>12</td>\n",
    "    </tr>\n",
    "    <tr>\n",
    "        <th>B</th><td>2</td><td>2</td>\n",
    "    </tr>\n",
    "    <tr>\n",
    "        <th>C</th><td>10</td><td>4</td>\n",
    "    </tr>\n",
    "    <tr>\n",
    "        <th>D</th><td>1</td><td>1</td>\n",
    "    </tr>\n",
    "    <tr>\n",
    "        <th>E</th><td>5</td><td>15</td>\n",
    "    </tr>\n",
    "    <tr>\n",
    "        <th>F</th><td>3</td><td>2</td>\n",
    "    </tr>\n",
    "    <tr>\n",
    "        <th>G</th><td>14</td><td>7</td>\n",
    "    </tr>\n",
    "    <tr>\n",
    "        <th>H</th><td>4</td><td>10</td>\n",
    "    </tr>\n",
    "</table>\n",
    "\n",
    "Responder:\n",
    "\n",
    "- ¿Qué heurística se utilizó? \n"
   ]
  },
  {
   "cell_type": "code",
   "execution_count": 26,
   "metadata": {},
   "outputs": [
    {
     "name": "stdout",
     "output_type": "stream",
     "text": [
      "El articulo no entra en la mochila\n",
      "El articulo no entra en la mochila\n",
      "Lo que mas se pudo robar tiene un valor de: 34  y un peso de: 26 kg con los articulos: ['C', 'G', 'F', 'B', 'D', 'H']\n"
     ]
    }
   ],
   "source": [
    "articulos = [\"A\",\"B\",\"C\",\"D\",\"E\",\"F\",\"G\",\"H\"]\n",
    "pesos = [12, 2, 4, 1, 15, 2, 7, 10]\n",
    "valores = [4, 2, 10, 1, 5, 3, 14, 4]\n",
    "relacionvalorpeso = []\n",
    "aux = 0\n",
    "pesototal = 0\n",
    "valortotal = 0\n",
    "todochequeado = False\n",
    "articulosenmochila = []\n",
    "\n",
    "\"\"\"\n",
    "    Se arma un array complementario con la \n",
    "    relacion valor/peso que nos indicara \n",
    "    que objetos son mas importantes para robar.\n",
    "\"\"\"\n",
    "for articulo in articulos:\n",
    "    relacionvalorpeso.append(valores[articulos.index(articulo)]/pesos[articulos.index(articulo)])\n",
    "\n",
    "\"\"\"\n",
    "    Mientras no se haya chequeado que no entra ningun\n",
    "    articulo mas de los existentes en la mochila, \n",
    "    se sigue revisando o añadiendo articulos.\n",
    "\"\"\"\n",
    "while todochequeado == False:\n",
    "    maximo = max(relacionvalorpeso)\n",
    "    posicion = relacionvalorpeso.index(maximo)\n",
    "    relacionvalorpeso[posicion] = 0\n",
    "    if pesototal + pesos[posicion] < 30:\n",
    "        pesototal = pesototal + pesos[posicion]\n",
    "        valortotal = valortotal + valores[posicion]\n",
    "        articulosenmochila.append(articulos[posicion])\n",
    "    else:\n",
    "        print(\"El articulo no entra en la mochila\")\n",
    "    if sum(relacionvalorpeso) == 0:\n",
    "        todochequeado = True\n",
    "        \n",
    "print(\"Lo que mas se pudo robar tiene un valor de:\", valortotal,\n",
    "      \" y un peso de:\", pesototal,\n",
    "      \"kg con los articulos:\", articulosenmochila)"
   ]
  },
  {
   "cell_type": "markdown",
   "metadata": {},
   "source": [
    "Se utilizo una relacion peso valor para determinar cuales son los objetos con prioridad de entrar en la mochila."
   ]
  },
  {
   "cell_type": "code",
   "execution_count": null,
   "metadata": {},
   "outputs": [],
   "source": []
  }
 ],
 "metadata": {
  "kernelspec": {
   "display_name": "Python 3",
   "language": "python",
   "name": "python3"
  },
  "language_info": {
   "codemirror_mode": {
    "name": "ipython",
    "version": 3
   },
   "file_extension": ".py",
   "mimetype": "text/x-python",
   "name": "python",
   "nbconvert_exporter": "python",
   "pygments_lexer": "ipython3",
   "version": "3.8.3"
  }
 },
 "nbformat": 4,
 "nbformat_minor": 4
}
