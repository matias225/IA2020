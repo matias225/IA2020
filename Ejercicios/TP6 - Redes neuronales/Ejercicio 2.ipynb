{
 "cells": [
  {
   "cell_type": "code",
   "execution_count": 1,
   "metadata": {},
   "outputs": [],
   "source": [
    "from sklearn import datasets\n",
    "from sklearn.model_selection import train_test_split\n",
    "from sklearn import metrics\n",
    "import numpy as np\n",
    "from sklearn.datasets import load_breast_cancer\n",
    "from sklearn.linear_model import Perceptron\n",
    "from sklearn.neural_network import MLPClassifier\n",
    "import matplotlib.pyplot as plt\n",
    "import pandas as pd\n",
    "\n",
    "wine = pd.read_csv(\"winequality-red.csv\")\n",
    "wine.head()\n",
    "\n",
    "data = wine.values[:,:11]\n",
    "data_columns = list(wine.columns.values[:11])\n",
    "target=wine.values[:,11]\n",
    "\n",
    "X_train, X_test, y_train, y_test = train_test_split(data, target, test_size=0.3,random_state=109)\n"
   ]
  },
  {
   "cell_type": "markdown",
   "metadata": {},
   "source": [
    "## Perceptron\n",
    "\n",
    "Clasificar los datos correspondientes al dataset de vino tinto utilizando un perceptron\n"
   ]
  },
  {
   "cell_type": "code",
   "execution_count": 2,
   "metadata": {},
   "outputs": [
    {
     "name": "stdout",
     "output_type": "stream",
     "text": [
      "Cantidad de iteraciones: 10\n"
     ]
    },
    {
     "data": {
      "image/png": "[encoded data removed]",
      "text/plain": [
       "<Figure size 432x288 with 2 Axes>"
      ]
     },
     "metadata": {
      "needs_background": "light"
     },
     "output_type": "display_data"
    }
   ],
   "source": [
    "p = Perceptron(\n",
    "             # random_state=42,\n",
    "              max_iter=150,\n",
    "              tol=0.001              \n",
    "              )\n",
    "p.fit(X_train, y_train)\n",
    "print(\"Cantidad de iteraciones: \" +str(p.n_iter_))\n",
    "disp = metrics.plot_confusion_matrix(p, X_test, y_test,cmap=plt.cm.Blues)\n",
    "disp.ax_.set_title('Confusion Matrix')\n",
    "plt.show()"
   ]
  },
  {
   "cell_type": "markdown",
   "metadata": {},
   "source": [
    "- ¿Es posible clasificar correctamente los casos utilizando un Perceptron?\n",
    "- ¿Cuántas iteraciones son necesarias?"
   ]
  },
  {
   "cell_type": "markdown",
   "metadata": {},
   "source": [
    "Si es posible, pero no es el metodo optimo, clasifica mal"
   ]
  },
  {
   "cell_type": "markdown",
   "metadata": {},
   "source": [
    "## Perceptron multicapa\n",
    "\n",
    "Clasificar los datos correspondientes al dataset de vino tinto utilizando un perceptron multicapa"
   ]
  },
  {
   "cell_type": "code",
   "execution_count": 3,
   "metadata": {},
   "outputs": [
    {
     "name": "stdout",
     "output_type": "stream",
     "text": [
      "Iteration 1, loss = inf\n",
      "Iteration 2, loss = inf\n",
      "Iteration 3, loss = inf\n",
      "Iteration 4, loss = inf\n",
      "Iteration 5, loss = 30.23293310\n",
      "Iteration 6, loss = 26.84551961\n",
      "Iteration 7, loss = 24.08463904\n",
      "Iteration 8, loss = 21.96290949\n",
      "Iteration 9, loss = 20.57278650\n",
      "Iteration 10, loss = 19.07790719\n",
      "Iteration 11, loss = 17.58832605\n",
      "Iteration 12, loss = 16.44705991\n",
      "Iteration 13, loss = 15.30178997\n",
      "Iteration 14, loss = 14.23534233\n",
      "Iteration 15, loss = 13.19035435\n",
      "Iteration 16, loss = 12.21374373\n",
      "Iteration 17, loss = 11.35980588\n",
      "Iteration 18, loss = 10.42431074\n",
      "Iteration 19, loss = 9.55743835\n",
      "Iteration 20, loss = 8.73701995\n",
      "Iteration 21, loss = 7.87085452\n",
      "Iteration 22, loss = 7.09884277\n",
      "Iteration 23, loss = 6.32704736\n",
      "Iteration 24, loss = 5.63100005\n",
      "Iteration 25, loss = 5.06213807\n",
      "Iteration 26, loss = 4.48508975\n",
      "Iteration 27, loss = 3.91369303\n",
      "Iteration 28, loss = 3.35131608\n",
      "Iteration 29, loss = 2.83656884\n",
      "Iteration 30, loss = 2.30546899\n",
      "Iteration 31, loss = 1.79307868\n",
      "Iteration 32, loss = 1.76270983\n",
      "Iteration 33, loss = 1.64845926\n",
      "Iteration 34, loss = 1.65130652\n",
      "Iteration 35, loss = 1.59148185\n",
      "Iteration 36, loss = 1.58213015\n",
      "Iteration 37, loss = 1.55596952\n",
      "Iteration 38, loss = 1.54384439\n",
      "Iteration 39, loss = 1.53274099\n",
      "Iteration 40, loss = 1.51774339\n",
      "Iteration 41, loss = 1.51379961\n",
      "Iteration 42, loss = 1.49843448\n",
      "Iteration 43, loss = 1.48708585\n",
      "Iteration 44, loss = 1.47792069\n",
      "Iteration 45, loss = 1.46773742\n",
      "Iteration 46, loss = 1.46045220\n",
      "Iteration 47, loss = 1.45566803\n",
      "Iteration 48, loss = 1.44786147\n",
      "Iteration 49, loss = 1.43659770\n",
      "Iteration 50, loss = 1.42924913\n",
      "Iteration 51, loss = 1.42057949\n",
      "Iteration 52, loss = 1.41245393\n",
      "Iteration 53, loss = 1.40552683\n",
      "Iteration 54, loss = 1.39878949\n",
      "Iteration 55, loss = 1.39331779\n",
      "Iteration 56, loss = 1.38347937\n",
      "Iteration 57, loss = 1.37927268\n",
      "Iteration 58, loss = 1.37115001\n",
      "Iteration 59, loss = 1.36643293\n",
      "Iteration 60, loss = 1.36399501\n",
      "Iteration 61, loss = 1.35540358\n",
      "Iteration 62, loss = 1.35141670\n",
      "Iteration 63, loss = 1.34355065\n",
      "Iteration 64, loss = 1.33924890\n",
      "Iteration 65, loss = 1.33333389\n",
      "Iteration 66, loss = 1.32919000\n",
      "Iteration 67, loss = 1.32185370\n",
      "Iteration 68, loss = 1.31803543\n",
      "Iteration 69, loss = 1.31360966\n",
      "Iteration 70, loss = 1.30830809\n",
      "Iteration 71, loss = 1.30243303\n",
      "Iteration 72, loss = 1.29667184\n",
      "Iteration 73, loss = 1.29252375\n",
      "Iteration 74, loss = 1.28760887\n",
      "Iteration 75, loss = 1.28508149\n",
      "Iteration 76, loss = 1.28047470\n",
      "Iteration 77, loss = 1.27660946\n",
      "Iteration 78, loss = 1.27042341\n",
      "Iteration 79, loss = 1.26664316\n",
      "Iteration 80, loss = 1.26343542\n",
      "Iteration 81, loss = 1.25710926\n",
      "Iteration 82, loss = 1.25161319\n",
      "Iteration 83, loss = 1.24809135\n",
      "Iteration 84, loss = 1.24546207\n",
      "Iteration 85, loss = 1.24497070\n",
      "Iteration 86, loss = 1.24829270\n",
      "Iteration 87, loss = 1.23828110\n",
      "Iteration 88, loss = 1.22664829\n",
      "Iteration 89, loss = 1.22381592\n",
      "Iteration 90, loss = 1.21954332\n",
      "Iteration 91, loss = 1.21928722\n",
      "Iteration 92, loss = 1.22227372\n",
      "Iteration 93, loss = 1.21027213\n",
      "Iteration 94, loss = 1.20326633\n",
      "Iteration 95, loss = 1.20336403\n",
      "Iteration 96, loss = 1.19684877\n",
      "Iteration 97, loss = 1.19435698\n",
      "Iteration 98, loss = 1.19249518\n",
      "Iteration 99, loss = 1.18744055\n",
      "Iteration 100, loss = 1.18418349\n",
      "Iteration 101, loss = 1.18051878\n",
      "Iteration 102, loss = 1.18163409\n",
      "Iteration 103, loss = 1.17262469\n",
      "Iteration 104, loss = 1.16852448\n",
      "Iteration 105, loss = 1.16940578\n",
      "Iteration 106, loss = 1.16394357\n",
      "Iteration 107, loss = 1.15979910\n",
      "Iteration 108, loss = 1.15986969\n",
      "Iteration 109, loss = 1.15563905\n",
      "Iteration 110, loss = 1.15385627\n",
      "Iteration 111, loss = 1.14748834\n",
      "Iteration 112, loss = 1.14751457\n",
      "Iteration 113, loss = 1.14398005\n",
      "Iteration 114, loss = 1.14152952\n",
      "Iteration 115, loss = 1.13934564\n",
      "Iteration 116, loss = 1.14530979\n",
      "Iteration 117, loss = 1.13886427\n",
      "Iteration 118, loss = 1.13651760\n",
      "Iteration 119, loss = 1.12842884\n",
      "Iteration 120, loss = 1.12588612\n",
      "Iteration 121, loss = 1.12443130\n",
      "Iteration 122, loss = 1.12448356\n",
      "Iteration 123, loss = 1.12939040\n",
      "Iteration 124, loss = 1.12013705\n",
      "Iteration 125, loss = 1.11654216\n",
      "Iteration 126, loss = 1.11687738\n",
      "Iteration 127, loss = 1.11799072\n",
      "Iteration 128, loss = 1.12684879\n",
      "Iteration 129, loss = 1.11639799\n",
      "Iteration 130, loss = 1.11445351\n",
      "Iteration 131, loss = 1.10920950\n",
      "Iteration 132, loss = 1.10463530\n",
      "Iteration 133, loss = 1.10590189\n",
      "Iteration 134, loss = 1.10430674\n",
      "Iteration 135, loss = 1.10350657\n",
      "Iteration 136, loss = 1.10528131\n",
      "Iteration 137, loss = 1.10379420\n",
      "Iteration 138, loss = 1.10179834\n",
      "Iteration 139, loss = 1.10198305\n",
      "Iteration 140, loss = 1.09864961\n",
      "Iteration 141, loss = 1.09824994\n",
      "Iteration 142, loss = 1.09964684\n",
      "Iteration 143, loss = 1.09951026\n",
      "Iteration 144, loss = 1.09551285\n",
      "Iteration 145, loss = 1.09499964\n",
      "Iteration 146, loss = 1.09563943\n",
      "Iteration 147, loss = 1.09632435\n",
      "Iteration 148, loss = 1.09404017\n",
      "Iteration 149, loss = 1.09794793\n",
      "Iteration 150, loss = 1.09724130\n",
      "Iteration 151, loss = 1.09405709\n",
      "Iteration 152, loss = 1.09345102\n",
      "Iteration 153, loss = 1.09264799\n",
      "Iteration 154, loss = 1.09364765\n",
      "Iteration 155, loss = 1.09831769\n",
      "Iteration 156, loss = 1.10662699\n",
      "Iteration 157, loss = 1.10156870\n",
      "Iteration 158, loss = 1.09971196\n",
      "Iteration 159, loss = 1.10336979\n",
      "Iteration 160, loss = 1.10433729\n",
      "Iteration 161, loss = 1.09127805\n",
      "Iteration 162, loss = 1.09150999\n",
      "Iteration 163, loss = 1.09042654\n",
      "Iteration 164, loss = 1.08994926\n",
      "Iteration 165, loss = 1.09162775\n",
      "Iteration 166, loss = 1.09863331\n",
      "Iteration 167, loss = 1.09306632\n",
      "Iteration 168, loss = 1.09047343\n",
      "Iteration 169, loss = 1.08849745\n",
      "Iteration 170, loss = 1.08957344\n",
      "Iteration 171, loss = 1.08932318\n",
      "Iteration 172, loss = 1.08804612\n",
      "Iteration 173, loss = 1.09005188\n",
      "Iteration 174, loss = 1.09972355\n",
      "Iteration 175, loss = 1.09661399\n",
      "Iteration 176, loss = 1.09945139\n",
      "Iteration 177, loss = 1.09374710\n",
      "Iteration 178, loss = 1.08865858\n",
      "Iteration 179, loss = 1.08686216\n",
      "Iteration 180, loss = 1.08859151\n",
      "Iteration 181, loss = 1.08559882\n",
      "Iteration 182, loss = 1.09218287\n",
      "Iteration 183, loss = 1.09220622\n",
      "Iteration 184, loss = 1.09335094\n",
      "Iteration 185, loss = 1.09542361\n",
      "Iteration 186, loss = 1.09524883\n",
      "Iteration 187, loss = 1.09450981\n",
      "Iteration 188, loss = 1.08658534\n",
      "Iteration 189, loss = 1.08655566\n",
      "Iteration 190, loss = 1.09199317\n",
      "Iteration 191, loss = 1.09346382\n",
      "Iteration 192, loss = 1.09175670\n",
      "Training loss did not improve more than tol=0.000100 for 10 consecutive epochs. Stopping.\n"
     ]
    },
    {
     "data": {
      "text/plain": [
       "MLPClassifier(activation='identity', alpha=0.0001, batch_size='auto',\n",
       "              beta_1=0.9, beta_2=0.999, early_stopping=False, epsilon=1e-08,\n",
       "              hidden_layer_sizes=(10, 2), learning_rate='constant',\n",
       "              learning_rate_init=0.001, max_fun=15000, max_iter=1000,\n",
       "              momentum=0.9, n_iter_no_change=10, nesterovs_momentum=True,\n",
       "              power_t=0.5, random_state=None, shuffle=True, solver='adam',\n",
       "              tol=0.0001, validation_fraction=0.1, verbose=True,\n",
       "              warm_start=False)"
      ]
     },
     "execution_count": 3,
     "metadata": {},
     "output_type": "execute_result"
    }
   ],
   "source": [
    "activation = \"identity\"\n",
    "#activation = \"logistic\"\n",
    "#activation = \"tanh\"\n",
    "#activation = \"relu\"\n",
    "mlp = MLPClassifier(#random_state=42,\n",
    "                    hidden_layer_sizes=(10,2),\n",
    "                    max_iter = 1000,\n",
    "                    activation = activation,\n",
    "                    verbose = True\n",
    "                    )\n",
    "mlp.fit(X_train, y_train)"
   ]
  },
  {
   "cell_type": "code",
   "execution_count": 4,
   "metadata": {},
   "outputs": [
    {
     "name": "stdout",
     "output_type": "stream",
     "text": [
      "Cantidad de iteraciones: 192\n"
     ]
    },
    {
     "data": {
      "image/png": "[encoded data removed]",
      "text/plain": [
       "<Figure size 432x288 with 2 Axes>"
      ]
     },
     "metadata": {
      "needs_background": "light"
     },
     "output_type": "display_data"
    }
   ],
   "source": [
    "print(\"Cantidad de iteraciones: \" +str(mlp.n_iter_))\n",
    "disp = metrics.plot_confusion_matrix(mlp, X_test, y_test,cmap=plt.cm.Blues)\n",
    "disp.ax_.set_title('Confusion Matrix')\n",
    "plt.show()"
   ]
  },
  {
   "cell_type": "markdown",
   "metadata": {},
   "source": [
    "- ¿Es posible clasificar correctamente los casos utilizando un Perceptron?\n",
    "- ¿Cuántas iteraciones son necesarias?"
   ]
  },
  {
   "cell_type": "markdown",
   "metadata": {},
   "source": [
    "Si es posible clasificar, es mas optimo que el metodo simple capa.\n",
    "Cantidad de iteraciones: 192\n",
    "\n",
    "Si es posible clasificar utilizando este metodo, no es optimo al 100% pero es mejor al anterior,\n",
    "se utilizo un sistema de capas de 10,2 y con 188 iteraciones logro su mejor performance o version."
   ]
  },
  {
   "cell_type": "code",
   "execution_count": null,
   "metadata": {},
   "outputs": [],
   "source": []
  }
 ],
 "metadata": {
  "kernelspec": {
   "display_name": "Python 3",
   "language": "python",
   "name": "python3"
  },
  "language_info": {
   "codemirror_mode": {
    "name": "ipython",
    "version": 3
   },
   "file_extension": ".py",
   "mimetype": "text/x-python",
   "name": "python",
   "nbconvert_exporter": "python",
   "pygments_lexer": "ipython3",
   "version": "3.8.3"
  }
 },
 "nbformat": 4,
 "nbformat_minor": 4
}
